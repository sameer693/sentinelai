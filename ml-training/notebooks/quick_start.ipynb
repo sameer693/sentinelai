{
 "cells": [
  {
   "cell_type": "markdown",
   "metadata": {},
   "source": [
    "# SentinelAI Training Quick Start\n",
    "\n",
    "This notebook demonstrates how to train SentinelAI models with cybersecurity datasets."
   ]
  },
  {
   "cell_type": "code",
   "execution_count": null,
   "metadata": {},
   "outputs": [],
   "source": [
    "# Import required libraries\n",
    "import sys\n",
    "sys.path.append('../')\n",
    "\n",
    "from ml-training.train_models import *\n",
    "import pandas as pd\n",
    "import numpy as np"
   ]
  },
  {
   "cell_type": "code",
   "execution_count": null,
   "metadata": {},
   "outputs": [],
   "source": [
    "# Load and explore datasets\n",
    "config = {\n",
    "    'datasets': {\n",
    "        'unsw_nb15_path': '../datasets/raw/unsw_nb15/UNSW_NB15_training-set.csv'\n",
    "    }\n",
    "}\n",
    "\n",
    "preprocessor = DataPreprocessor(config)\n",
    "datasets = preprocessor.load_datasets()"
   ]
  },
  {
   "cell_type": "code",
   "execution_count": null,
   "metadata": {},
   "outputs": [],
   "source": [
    "# Train CNN classifier\n",
    "classifier = CNNTrafficClassifier(config)\n",
    "# Add training code here..."
   ]
  }
 ],
 "metadata": {
  "kernelspec": {
   "display_name": "Python 3",
   "language": "python",
   "name": "python3"
  },
  "language_info": {
   "codemirror_mode": {
    "name": "ipython",
    "version": 3
   },
   "file_extension": ".py",
   "name": "python",
   "nbconvert_exporter": "python",
   "pygments_lexer": "ipython3",
   "version": "3.8.0"
  }
 },
 "nbformat": 4,
 "nbformat_minor": 4
}